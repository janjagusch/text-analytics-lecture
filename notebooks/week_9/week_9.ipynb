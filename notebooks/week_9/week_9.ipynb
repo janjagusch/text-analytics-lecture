{
 "cells": [
  {
   "cell_type": "markdown",
   "metadata": {
    "nbpresent": {
     "id": "c5d78478-f08e-4cd2-b66d-6f6d5f2b2366"
    }
   },
   "source": [
    "# WordNet\n",
    "Today we will learn about WordNet and its Synsets."
   ]
  },
  {
   "cell_type": "markdown",
   "metadata": {
    "nbpresent": {
     "id": "a7c09117-9f14-4130-93d5-581723dd0dba"
    }
   },
   "source": [
    "Let’s look at a real example by using nltk ’s WordNet interface to explore synsets\n",
    "associated with the term, 'fruit' . We can do this using the following code snippet:"
   ]
  },
  {
   "cell_type": "code",
   "execution_count": 3,
   "metadata": {
    "collapsed": true,
    "nbpresent": {
     "id": "06585c95-d9e3-43c7-9817-fe4aa0084007"
    }
   },
   "outputs": [],
   "source": [
    "from nltk.corpus import wordnet as wn\n",
    "import pandas as pd"
   ]
  },
  {
   "cell_type": "code",
   "execution_count": 4,
   "metadata": {
    "collapsed": true,
    "nbpresent": {
     "id": "c2c20ec8-25bf-4af7-a228-ba5dc134b29b"
    }
   },
   "outputs": [],
   "source": [
    "term = 'fruit'\n",
    "synsets = wn.synsets(term)"
   ]
  },
  {
   "cell_type": "code",
   "execution_count": 5,
   "metadata": {
    "nbpresent": {
     "id": "29c2e751-dbce-4f8b-832d-8bd8d432fcc8"
    }
   },
   "outputs": [
    {
     "name": "stdout",
     "output_type": "stream",
     "text": [
      "Total Synsets: 5\n"
     ]
    }
   ],
   "source": [
    "# display total synsets\n",
    "print('Total Synsets:', len(synsets))"
   ]
  },
  {
   "cell_type": "markdown",
   "metadata": {
    "nbpresent": {
     "id": "3545bfe0-333b-4c2b-a501-8ca5fc7e9fab"
    }
   },
   "source": [
    "We can see that there are a total of five synsets associated with the term 'fruit' .\n",
    "What can these synsets indicate? We can dig deeper into each synset and its components\n",
    "using the following code snippet:"
   ]
  },
  {
   "cell_type": "code",
   "execution_count": 6,
   "metadata": {
    "nbpresent": {
     "id": "0a25cb7b-3443-4be6-a876-de7f41318c9b"
    }
   },
   "outputs": [
    {
     "name": "stdout",
     "output_type": "stream",
     "text": [
      "Synset: Synset('fruit.n.01')\n",
      "Part of speech: noun.plant\n",
      "Definition: the ripened reproductive body of a seed plant\n",
      "Lemmas: ['fruit']\n",
      "Examples: []\n",
      "\n",
      "Synset: Synset('yield.n.03')\n",
      "Part of speech: noun.artifact\n",
      "Definition: an amount of a product\n",
      "Lemmas: ['yield', 'fruit']\n",
      "Examples: []\n",
      "\n",
      "Synset: Synset('fruit.n.03')\n",
      "Part of speech: noun.event\n",
      "Definition: the consequence of some effort or action\n",
      "Lemmas: ['fruit']\n",
      "Examples: ['he lived long enough to see the fruit of his policies']\n",
      "\n",
      "Synset: Synset('fruit.v.01')\n",
      "Part of speech: verb.creation\n",
      "Definition: cause to bear fruit\n",
      "Lemmas: ['fruit']\n",
      "Examples: []\n",
      "\n",
      "Synset: Synset('fruit.v.02')\n",
      "Part of speech: verb.creation\n",
      "Definition: bear fruit\n",
      "Lemmas: ['fruit']\n",
      "Examples: ['the trees fruited early this year']\n",
      "\n"
     ]
    }
   ],
   "source": [
    "for synset in synsets:\n",
    "    print('Synset:', synset)\n",
    "    print('Part of speech:', synset.lexname())\n",
    "    print('Definition:', synset.definition())\n",
    "    print('Lemmas:', synset.lemma_names())\n",
    "    print('Examples:', synset.examples())\n",
    "    print()"
   ]
  },
  {
   "cell_type": "markdown",
   "metadata": {
    "nbpresent": {
     "id": "27019b65-8538-48bd-9215-9ce11b06a52f"
    }
   },
   "source": [
    "The preceding output shows us details pertaining to each synset associated with\n",
    "the term 'fruit' , and the definitions give us the sense of each synset and the lemma\n",
    "associated with it. The part of speech for each synset is also mentioned, which includes\n",
    "nouns and verbs. Some examples are also depicted in the preceding output that show\n",
    "how the term is used in actual sentences."
   ]
  },
  {
   "cell_type": "markdown",
   "metadata": {
    "nbpresent": {
     "id": "e90a8664-6689-4872-9072-6af7a35e129e"
    }
   },
   "source": [
    "# Exercise 1:\n",
    "The polysemy of a word is the number of senses it has. \n",
    "Using WordNet, we can determine that the noun dog has 7 senses with: len(wn.synsets('dog', 'n')). \n",
    "\n",
    "Compute the average polysemy of nouns, verbs, adjectives and adverbs according to WordNet.\n",
    "\n",
    "Tips:\n",
    "\n",
    "Learn a bit about WordNet Data File Format:\n",
    "https://wordnet.princeton.edu/documentation/wndb5wn\n",
    "\n",
    "Access to all noun Synsets: wn.all_synsets('n')\n",
    "For each synset we can access to their lemmas: synset.lemmas()\n"
   ]
  },
  {
   "cell_type": "code",
   "execution_count": 7,
   "metadata": {
    "nbpresent": {
     "id": "77b3443d-365c-4244-9114-80af1a6fef2d"
    },
    "scrolled": true
   },
   "outputs": [
    {
     "data": {
      "text/plain": [
       "[Synset('dog.n.01'),\n",
       " Synset('frump.n.01'),\n",
       " Synset('dog.n.03'),\n",
       " Synset('cad.n.01'),\n",
       " Synset('frank.n.02'),\n",
       " Synset('pawl.n.01'),\n",
       " Synset('andiron.n.01'),\n",
       " Synset('chase.v.01')]"
      ]
     },
     "execution_count": 7,
     "metadata": {},
     "output_type": "execute_result"
    }
   ],
   "source": [
    "wn.synsets('dog')"
   ]
  },
  {
   "cell_type": "code",
   "execution_count": 8,
   "metadata": {
    "collapsed": true,
    "nbpresent": {
     "id": "0a40f7de-ad16-4332-a7b5-8d903d743366"
    }
   },
   "outputs": [],
   "source": [
    "# Implement your solution"
   ]
  },
  {
   "cell_type": "markdown",
   "metadata": {
    "nbpresent": {
     "id": "af5b1cbd-8a8f-41a6-bd1e-48e71c1e32fc"
    }
   },
   "source": [
    "## Now that we understand synsets better, let’s start exploring various semantic relationships as mentioned."
   ]
  },
  {
   "cell_type": "markdown",
   "metadata": {
    "collapsed": true,
    "nbpresent": {
     "id": "9f6a70fc-7816-4896-b550-f8a29273de36"
    }
   },
   "source": [
    "### Entailments"
   ]
  },
  {
   "cell_type": "code",
   "execution_count": 9,
   "metadata": {
    "nbpresent": {
     "id": "7f630a4d-480d-4669-99ea-b33bee0f7097"
    }
   },
   "outputs": [
    {
     "name": "stdout",
     "output_type": "stream",
     "text": [
      "Synset('walk.v.01') -- entails --> [Synset('step.v.01')]\n",
      "Synset('eat.v.01') -- entails --> [Synset('chew.v.01'), Synset('swallow.v.01')]\n",
      "Synset('digest.v.01') -- entails --> [Synset('consume.v.02')]\n"
     ]
    }
   ],
   "source": [
    "# Entailments\n",
    "for action in ['walk', 'eat', 'digest']:\n",
    "    action_syn = wn.synsets(action, pos='v')[0]\n",
    "    print(action_syn, '-- entails -->', action_syn.entailments())"
   ]
  },
  {
   "cell_type": "markdown",
   "metadata": {
    "nbpresent": {
     "id": "d5c6371b-b1c8-43f2-b20a-b2923a1ca3a6"
    }
   },
   "source": [
    "### Homonyms and Homographs"
   ]
  },
  {
   "cell_type": "code",
   "execution_count": 10,
   "metadata": {
    "nbpresent": {
     "id": "360868ae-3e39-4679-8a29-c6e9f8437bc6"
    }
   },
   "outputs": [
    {
     "name": "stdout",
     "output_type": "stream",
     "text": [
      "bank.n.01 - sloping land (especially the slope beside a body of water)\n",
      "depository_financial_institution.n.01 - a financial institution that accepts deposits and channels the money into lending activities\n",
      "bank.n.03 - a long ridge or pile\n",
      "bank.n.04 - an arrangement of similar objects in a row or in tiers\n",
      "bank.n.05 - a supply or stock held in reserve for future use (especially in emergencies)\n",
      "bank.n.06 - the funds held by a gambling house or the dealer in some gambling games\n",
      "bank.n.07 - a slope in the turn of a road or track; the outside is higher than the inside in order to reduce the effects of centrifugal force\n",
      "savings_bank.n.02 - a container (usually with a slot in the top) for keeping money at home\n",
      "bank.n.09 - a building in which the business of banking transacted\n",
      "bank.n.10 - a flight maneuver; aircraft tips laterally about its longitudinal axis (especially in turning)\n",
      "bank.v.01 - tip laterally\n",
      "bank.v.02 - enclose with a bank\n",
      "bank.v.03 - do business with a bank or keep an account at a bank\n",
      "bank.v.04 - act as the banker in a game or in gambling\n",
      "bank.v.05 - be in the banking business\n",
      "deposit.v.02 - put into a bank account\n",
      "bank.v.07 - cover with ashes so to control the rate of burning\n",
      "trust.v.01 - have confidence or faith in\n"
     ]
    }
   ],
   "source": [
    "for synset in wn.synsets('bank'):\n",
    "    print(synset.name(),'-',synset.definition())"
   ]
  },
  {
   "cell_type": "markdown",
   "metadata": {
    "nbpresent": {
     "id": "b4d67830-76a1-49a2-a97e-f43044d8740b"
    }
   },
   "source": [
    "### Synonyms and Antonyms"
   ]
  },
  {
   "cell_type": "code",
   "execution_count": 11,
   "metadata": {
    "nbpresent": {
     "id": "8b7fa991-69e0-4529-9230-7276da420c0f"
    }
   },
   "outputs": [
    {
     "name": "stdout",
     "output_type": "stream",
     "text": [
      "Synonym: large.a.01\n",
      "Definition: above average in size or number or quantity or magnitude or extent\n",
      "Antonym: small.a.01\n",
      "Definition: limited or below average in number or quantity or magnitude or extent\n"
     ]
    }
   ],
   "source": [
    "term = 'large'\n",
    "synsets = wn.synsets(term)\n",
    "adj_large = synsets[1]\n",
    "adj_large = adj_large.lemmas()[0]\n",
    "adj_large_synonym = adj_large.synset()\n",
    "adj_large_antonym = adj_large.antonyms()[0].synset()\n",
    "# print synonym and antonym\n",
    "print('Synonym:', adj_large_synonym.name())\n",
    "print('Definition:', adj_large_synonym.definition())\n",
    "print('Antonym:', adj_large_antonym.name())\n",
    "print('Definition:', adj_large_antonym.definition())"
   ]
  },
  {
   "cell_type": "code",
   "execution_count": 12,
   "metadata": {
    "nbpresent": {
     "id": "2fa5a63d-151a-4b5a-8521-f6672ad49cd6"
    }
   },
   "outputs": [
    {
     "name": "stdout",
     "output_type": "stream",
     "text": [
      "Synonym: rich_people.n.01\n",
      "Definition: people who have possessions and wealth (considered as a group)\n",
      "Antonym: poor_people.n.01\n",
      "Definition: people without possessions or wealth (considered as a group)\n",
      "\n",
      "Synonym: rich.a.01\n",
      "Definition: possessing material wealth\n",
      "Antonym: poor.a.02\n",
      "Definition: having little money or few possessions\n",
      "\n",
      "Synonym: rich.a.02\n",
      "Definition: having an abundant supply of desirable qualities or substances (especially natural resources)\n",
      "Antonym: poor.a.04\n",
      "Definition: lacking in specific resources, qualities or substances\n",
      "\n"
     ]
    }
   ],
   "source": [
    "term = 'rich'\n",
    "synsets = wn.synsets(term)[:3]\n",
    "# print synonym and antonym for different synsets\n",
    "for synset in synsets:\n",
    "    rich = synset.lemmas()[0]\n",
    "    rich_synonym = rich.synset()\n",
    "    rich_antonym = rich.antonyms()[0].synset()\n",
    "    print('Synonym:', rich_synonym.name())\n",
    "    print('Definition:', rich_synonym.definition())\n",
    "    print('Antonym:', rich_antonym.name())\n",
    "    print('Definition:', rich_antonym.definition())\n",
    "    print()"
   ]
  },
  {
   "cell_type": "code",
   "execution_count": 13,
   "metadata": {
    "nbpresent": {
     "id": "ce420610-0af9-4fb1-ba67-53561b6dfc12"
    }
   },
   "outputs": [
    {
     "name": "stdout",
     "output_type": "stream",
     "text": [
      "Name: happy.a.01\n",
      "Definition: enjoying or showing or marked by joy or pleasure\n",
      "Lemmas:\n",
      "\tLemma: happy\n",
      "\t\tAntonyms:\n",
      "\t\t unhappy\n",
      "\n",
      "Name: felicitous.s.02\n",
      "Definition: marked by good fortune\n",
      "Lemmas:\n",
      "\tLemma: felicitous\n",
      "\tLemma has no antonyms\n",
      "\tLemma: happy\n",
      "\tLemma has no antonyms\n",
      "\n",
      "Name: glad.s.02\n",
      "Definition: eagerly disposed to act or to be of service\n",
      "Lemmas:\n",
      "\tLemma: glad\n",
      "\tLemma has no antonyms\n",
      "\tLemma: happy\n",
      "\tLemma has no antonyms\n",
      "\n",
      "Name: happy.s.04\n",
      "Definition: well expressed and to the point\n",
      "Lemmas:\n",
      "\tLemma: happy\n",
      "\tLemma has no antonyms\n",
      "\tLemma: well-chosen\n",
      "\tLemma has no antonyms\n",
      "\n"
     ]
    }
   ],
   "source": [
    "# Try with different words (in the example bellow we are using the word happy)\n",
    "syn = wn.synsets('happy')\n",
    "for s in syn:\n",
    "    print('Name:', s.name())\n",
    "    print('Definition:', s.definition())\n",
    "    print('Lemmas:')\n",
    "    for lemma in s.lemmas():\n",
    "        print('\\tLemma:',lemma.name())\n",
    "        if len(lemma.antonyms())>0:\n",
    "            print('\\t\\tAntonyms:')    \n",
    "            for ant in lemma.antonyms():\n",
    "                print('\\t\\t',ant.name())\n",
    "        else:\n",
    "            print('\\tLemma has no antonyms')\n",
    "    print()"
   ]
  },
  {
   "cell_type": "markdown",
   "metadata": {
    "nbpresent": {
     "id": "1e2b5fcd-3a03-4757-afee-915d4764cf84"
    }
   },
   "source": [
    "### Hyponyms and Hypernyms"
   ]
  },
  {
   "cell_type": "code",
   "execution_count": 14,
   "metadata": {
    "nbpresent": {
     "id": "6463e841-ca67-4266-b946-50ffe33b00eb"
    }
   },
   "outputs": [
    {
     "name": "stdout",
     "output_type": "stream",
     "text": [
      "Name: tree.n.01\n",
      "Definition: a tall perennial woody plant having a main trunk and branches forming a distinct elevated crown; includes both gymnosperms and angiosperms\n"
     ]
    }
   ],
   "source": [
    "term = 'tree'\n",
    "synsets = wn.synsets(term)\n",
    "tree = synsets[0]\n",
    "# print the entity and its meaning\n",
    "print('Name:', tree.name())\n",
    "print('Definition:', tree.definition())"
   ]
  },
  {
   "cell_type": "code",
   "execution_count": 15,
   "metadata": {
    "nbpresent": {
     "id": "540511d9-a7b9-45b3-8503-ea52a06ffe63"
    }
   },
   "outputs": [
    {
     "name": "stdout",
     "output_type": "stream",
     "text": [
      "Total Hyponyms: 180\n",
      "Sample Hyponyms\n",
      "\t aalii.n.01 - a small Hawaiian tree with hard dark wood\n",
      "\t acacia.n.01 - any of various spiny trees or shrubs of the genus Acacia\n",
      "\t african_walnut.n.01 - tropical African timber tree with wood that resembles mahogany\n",
      "\t albizzia.n.01 - any of numerous trees of the genus Albizia\n",
      "\t alder.n.02 - north temperate shrubs or trees having toothed leaves and conelike fruit; bark is used in tanning and dyeing and the wood is rot-resistant\n",
      "\t angelim.n.01 - any of several tropical American trees of the genus Andira\n",
      "\t angiospermous_tree.n.01 - any tree having seeds and ovules contained in the ovary\n",
      "\t anise_tree.n.01 - any of several evergreen shrubs and small trees of the genus Illicium\n",
      "\t arbor.n.01 - tree (as opposed to shrub)\n",
      "\t aroeira_blanca.n.01 - small resinous tree or shrub of Brazil\n"
     ]
    }
   ],
   "source": [
    "hyponyms = tree.hyponyms()\n",
    "print('Total Hyponyms:', len(hyponyms))\n",
    "print('Sample Hyponyms')\n",
    "for hyponym in hyponyms[:10]:\n",
    "    print('\\t', hyponym.name(), '-', hyponym.definition())"
   ]
  },
  {
   "cell_type": "code",
   "execution_count": 16,
   "metadata": {
    "nbpresent": {
     "id": "657a1bdc-2e0f-4943-b52f-5830ba2145b3"
    }
   },
   "outputs": [
    {
     "name": "stdout",
     "output_type": "stream",
     "text": [
      "[Synset('woody_plant.n.01')]\n"
     ]
    }
   ],
   "source": [
    "hypernyms = tree.hypernyms()\n",
    "print(hypernyms)"
   ]
  },
  {
   "cell_type": "code",
   "execution_count": 17,
   "metadata": {
    "nbpresent": {
     "id": "c66466c7-3920-48e8-b858-207e01823b1a"
    }
   },
   "outputs": [
    {
     "name": "stdout",
     "output_type": "stream",
     "text": [
      "Total Hypernym paths: 1\n",
      "Hypernym Hierarchy\n",
      "entity.n.01 -> physical_entity.n.01 -> object.n.01 -> whole.n.02 -> living_thing.n.01 -> organism.n.01 -> plant.n.02 -> vascular_plant.n.01 -> woody_plant.n.01 -> tree.n.01\n"
     ]
    }
   ],
   "source": [
    "# get total hierarchy pathways for 'tree'\n",
    "hypernym_paths = tree.hypernym_paths()\n",
    "print('Total Hypernym paths:', len(hypernym_paths))\n",
    "# print the entire hypernym hierarchy\n",
    "print('Hypernym Hierarchy')\n",
    "print(' -> '.join(synset.name() for synset in hypernym_paths[0]))"
   ]
  },
  {
   "cell_type": "markdown",
   "metadata": {
    "nbpresent": {
     "id": "3cb10117-7667-4a80-84b3-27e84f56d735"
    }
   },
   "source": [
    "From the preceding output, you can see that 'entity' is the most generic concept in which 'tree' is present, \n",
    "and the complete hypernym hierarchy showing the corresponding hypernym or superclass at each level is shown."
   ]
  },
  {
   "cell_type": "markdown",
   "metadata": {
    "nbpresent": {
     "id": "d1579ddb-27f3-4ca5-8f91-677ca9fcdcdb"
    }
   },
   "source": [
    "### Holonyms and Meronyms\n",
    "\n",
    "#### Holonyms: entities that contain a specific entity of our interest. Refers to a relationship between a term or entity that denotes the whole and a term denoting a specific part of the whole\n",
    "\n",
    "#### Meronyms: semantic relationships that relate a term or entity as a part of constituent of another term or entity"
   ]
  },
  {
   "cell_type": "code",
   "execution_count": 18,
   "metadata": {
    "nbpresent": {
     "id": "cc028498-7219-4c8b-9480-27515e2055eb"
    }
   },
   "outputs": [
    {
     "name": "stdout",
     "output_type": "stream",
     "text": [
      "Total Member Holonyms: 1\n",
      "Member Holonyms for [tree]:-\n",
      "forest.n.01 - the trees and other plants in a large densely wooded area\n"
     ]
    }
   ],
   "source": [
    "member_holonyms = tree.member_holonyms()\n",
    "print('Total Member Holonyms:', len(member_holonyms))\n",
    "print('Member Holonyms for [tree]:-')\n",
    "for holonym in member_holonyms:\n",
    "    print(holonym.name(), '-', holonym.definition())"
   ]
  },
  {
   "cell_type": "code",
   "execution_count": 19,
   "metadata": {
    "nbpresent": {
     "id": "55c74ed1-afbd-42bd-bb5e-53e37e5c343a"
    }
   },
   "outputs": [
    {
     "name": "stdout",
     "output_type": "stream",
     "text": [
      "Total Part Meronyms: 5\n",
      "Part Meronyms for [tree]:-\n",
      "burl.n.02 - a large rounded outgrowth on the trunk or branch of a tree\n",
      "crown.n.07 - the upper branches and leaves of a tree or other plant\n",
      "limb.n.02 - any of the main branches arising from the trunk or a bough of a tree\n",
      "stump.n.01 - the base part of a tree that remains standing after the tree has been felled\n",
      "trunk.n.01 - the main stem of a tree; usually covered with bark; the bole is usually the part that is commercially useful for lumber\n"
     ]
    }
   ],
   "source": [
    "part_meronyms = tree.part_meronyms()\n",
    "print('Total Part Meronyms:', len(part_meronyms))\n",
    "print('Part Meronyms for [tree]:-')\n",
    "for meronym in part_meronyms:\n",
    "    print(meronym.name(), '-', meronym.definition())"
   ]
  },
  {
   "cell_type": "code",
   "execution_count": 20,
   "metadata": {
    "nbpresent": {
     "id": "aae07d15-ba34-4f5e-9f59-3b49dc1b74ba"
    }
   },
   "outputs": [
    {
     "name": "stdout",
     "output_type": "stream",
     "text": [
      "Total Substance Meronyms: 2\n",
      "Substance Meronyms for [tree]:-\n",
      "heartwood.n.01 - the older inactive central wood of a tree or woody plant; usually darker and denser than the surrounding sapwood\n",
      "sapwood.n.01 - newly formed outer wood lying between the cambium and the heartwood of a tree or woody plant; usually light colored; active in water conduction\n"
     ]
    }
   ],
   "source": [
    "# substance based meronyms for tree\n",
    "substance_meronyms = tree.substance_meronyms()\n",
    "print('Total Substance Meronyms:', len(substance_meronyms))\n",
    "print('Substance Meronyms for [tree]:-')\n",
    "for meronym in substance_meronyms:\n",
    "    print(meronym.name(), '-', meronym.definition())"
   ]
  },
  {
   "cell_type": "markdown",
   "metadata": {
    "nbpresent": {
     "id": "b178879b-99db-4ee5-bf48-bf9d4eaf7318"
    }
   },
   "source": [
    "The preceding output shows various meronyms that include various constituents of trees like stump \n",
    "and trunk and also various derived substances from trees like heartwood and sapwood"
   ]
  },
  {
   "cell_type": "markdown",
   "metadata": {
    "nbpresent": {
     "id": "3f5a974c-3dee-46ae-a5d3-9130090b1d56"
    }
   },
   "source": [
    "### Semantic Relationships and Similarity"
   ]
  },
  {
   "cell_type": "code",
   "execution_count": 21,
   "metadata": {
    "nbpresent": {
     "id": "403b4422-6f87-4855-8d45-2786403924c3"
    }
   },
   "outputs": [
    {
     "name": "stdout",
     "output_type": "stream",
     "text": [
      "tree - a tall perennial woody plant having a main trunk and branches forming a distinct elevated crown; includes both gymnosperms and angiosperms\n",
      "lion - large gregarious predatory feline of Africa and India having a tawny coat with a shaggy mane in the male\n",
      "tiger - large feline of forests in most of Asia having a tawny coat with black stripes; endangered\n",
      "cat - feline mammal usually having thick soft fur and no ability to roar: domestic cats; wildcats\n",
      "dog - a member of the genus Canis (probably descended from the common wolf) that has been domesticated by man since prehistoric times; occurs in many breeds\n"
     ]
    }
   ],
   "source": [
    "tree = wn.synset('tree.n.01')\n",
    "lion = wn.synset('lion.n.01')\n",
    "tiger = wn.synset('tiger.n.02')\n",
    "cat = wn.synset('cat.n.01')\n",
    "dog = wn.synset('dog.n.01')\n",
    "# create entities and extract names and definitions\n",
    "entities = [tree, lion, tiger, cat, dog]\n",
    "entity_names = [entity.name().split('.')[0] for entity in entities]\n",
    "entity_definitions = [entity.definition() for entity in entities]\n",
    "# print entities and their definitions\n",
    "for entity, definition in zip(entity_names, entity_definitions):\n",
    "    print(entity, '-', definition)"
   ]
  },
  {
   "cell_type": "markdown",
   "metadata": {
    "nbpresent": {
     "id": "f15f062b-f118-48af-95ce-cd26032bec55"
    }
   },
   "source": [
    "#### Correlated entities are expected to have very specific hypernyms and unrelated entities should have very abstract or generic hypernyms"
   ]
  },
  {
   "cell_type": "code",
   "execution_count": 22,
   "metadata": {
    "nbpresent": {
     "id": "7dad14f9-ca92-4621-89dd-7bad01db3075"
    }
   },
   "outputs": [
    {
     "name": "stdout",
     "output_type": "stream",
     "text": [
      "           tree       lion      tiger        cat        dog\n",
      "tree       tree   organism   organism   organism   organism\n",
      "lion   organism       lion    big_cat     feline  carnivore\n",
      "tiger  organism    big_cat      tiger     feline  carnivore\n",
      "cat    organism     feline     feline        cat  carnivore\n",
      "dog    organism  carnivore  carnivore  carnivore        dog\n"
     ]
    }
   ],
   "source": [
    "common_hypernyms = []\n",
    "for entity in entities:\n",
    "    # get pairwise lowest common hypernyms\n",
    "    common_hypernyms.append([entity.lowest_common_hypernyms(compared_entity)[0].name().split('.')[0] \n",
    "                             for compared_entity in entities])\n",
    "# build pairwise lower common hypernym matrix\n",
    "common_hypernym_frame = pd.DataFrame(common_hypernyms, index=entity_names, columns=entity_names)\n",
    "\n",
    "print(common_hypernym_frame)"
   ]
  },
  {
   "cell_type": "code",
   "execution_count": 23,
   "metadata": {
    "nbpresent": {
     "id": "2d597b78-c622-4292-a60b-2f8643c2a891"
    }
   },
   "outputs": [
    {
     "name": "stdout",
     "output_type": "stream",
     "text": [
      "       tree  lion  tiger   cat   dog\n",
      "tree   1.00  0.07   0.07  0.08  0.12\n",
      "lion   0.07  1.00   0.33  0.25  0.17\n",
      "tiger  0.07  0.33   1.00  0.25  0.17\n",
      "cat    0.08  0.25   0.25  1.00  0.20\n",
      "dog    0.12  0.17   0.17  0.20  1.00\n"
     ]
    }
   ],
   "source": [
    "similarities = []\n",
    "for entity in entities:\n",
    "    # get pairwise similarities\n",
    "    similarities.append([round(entity.path_similarity(compared_entity), 2) for compared_entity in entities])\n",
    "# build pairwise similarity matrix\n",
    "similarity_frame = pd.DataFrame(similarities, index=entity_names, columns=entity_names)\n",
    "# print the matrix\n",
    "print(similarity_frame)"
   ]
  },
  {
   "cell_type": "code",
   "execution_count": 24,
   "metadata": {
    "nbpresent": {
     "id": "c0a95b90-245c-437e-a34f-1e14db7c83ab"
    }
   },
   "outputs": [
    {
     "data": {
      "text/plain": [
       "<bound method Synset.lch_similarity of Synset('dog.n.01')>"
      ]
     },
     "execution_count": 24,
     "metadata": {},
     "output_type": "execute_result"
    }
   ],
   "source": [
    "entity.lch_similarity"
   ]
  },
  {
   "cell_type": "markdown",
   "metadata": {},
   "source": [
    "# Exercise 2:\n",
    "\n",
    "Use at least two of the predefined similarity measures to score the similarity of each of the following pairs of words. Rank the pairs in order of decreasing similarity. \n",
    "\n",
    "How close is your ranking to the order given here, an order that was established experimentally by (Miller & Charles, 1998): \n",
    "\n",
    "car-automobile, gem-jewel, journey-voyage, boy-lad, coast-shore, asylum-madhouse, magician-wizard, midday-noon, furnace- stove, food-fruit, bird-cock, bird-crane, tool-implement, brother-monk, lad- brother, crane-implement, journey-car, monk-oracle, cemetery-woodland, food- rooster, coast-hill, forest-graveyard, shore-woodland, monk-slave, coast-forest, lad-wizard, chord-smile, glass-magician, rooster-voyage, noon-string\n",
    "\n",
    "##### Tip: To simplify your solution use the first synset of each word (e.g. wn.synsets('car')[0])"
   ]
  },
  {
   "cell_type": "code",
   "execution_count": 25,
   "metadata": {},
   "outputs": [],
   "source": [
    "# Implement your solution"
   ]
  },
  {
   "cell_type": "markdown",
   "metadata": {},
   "source": [
    "## Exercise 3:\n",
    "Implement a function that computes the similarity of two sentences by computing the path_similarity between the terms in sentences\n",
    "\n",
    "##### Tip: To simplify your solution use the first synset of each word (e.g. wn.synsets(word)[0])"
   ]
  },
  {
   "cell_type": "code",
   "execution_count": 26,
   "metadata": {
    "collapsed": true
   },
   "outputs": [],
   "source": [
    "from nltk import word_tokenize, pos_tag\n",
    "\n",
    "# Annotate text tokens with POS tags\n",
    "def pos_tag_text(text):\n",
    "    def convert_tags(pos_tag):\n",
    "        if pos_tag.startswith('J'):\n",
    "            return wn.ADJ\n",
    "        elif pos_tag.startswith('V'):\n",
    "            return wn.VERB\n",
    "        elif pos_tag.startswith('N'):\n",
    "            return wn.NOUN\n",
    "        elif pos_tag.startswith('R'):\n",
    "            return wn.ADV\n",
    "        else:\n",
    "            return None\n",
    "\n",
    "    tagged_text = pos_tag(text)\n",
    "    tagged_lower_text = [(word.lower(), convert_tags(pos_tag)) for word, pos_tag in tagged_text]\n",
    "    return tagged_lower_text"
   ]
  },
  {
   "cell_type": "code",
   "execution_count": null,
   "metadata": {},
   "outputs": [],
   "source": [
    "def sentence_similarity(sentence1, sentence2):\n",
    "    \"\"\" compute the sentence similarity using Wordnet \"\"\"\n",
    "    # Tokenize and tag\n",
    "    sentence1 = word_tokenize(sentence1)\n",
    "    sentence2 = word_tokenize(sentence2)\n",
    " \n",
    "    # Get the synsets for the tagged words\n",
    "    synsets1 = [pos_tag_text([word]) for word in sentence1]\n",
    "    synsets2 = [pos_tag_text([word]) for word in sentence2]\n",
    "    \n",
    "    # Filter out the Nones\n",
    "    temp1 = # write your code here\n",
    "    temp2 = # write your code here\n",
    "    \n",
    "    # Write your code here\n",
    " \n",
    "    # score has the sum of the max similarity between each word from sentence1 and sentence2\n",
    "    # count has the total number computed similarities - if the similarity is None this is not considered\n",
    "    score = round(score/count, 2)\n",
    "    return score"
   ]
  },
  {
   "cell_type": "code",
   "execution_count": null,
   "metadata": {},
   "outputs": [],
   "source": [
    "sentences = [\n",
    "    \"Dogs are awesome.\",\n",
    "    \"Some gorgeous creatures are felines.\",\n",
    "    \"Dolphins are swimming mammals.\",\n",
    "    \"Cats are beautiful animals.\",\n",
    "]\n",
    " \n",
    "focus_sentence = \"Cats are beautiful animals.\"\n",
    " \n",
    "for sentence in sentences:\n",
    "    print(\"Similarity(\\\"%s\\\", \\\"%s\\\") = %s\" % (focus_sentence, sentence, \n",
    "                                               sentence_similarity(focus_sentence, sentence)))\n",
    "    print(\"Similarity(\\\"%s\\\", \\\"%s\\\") = %s\" % (sentence, focus_sentence, \n",
    "                                               sentence_similarity(sentence, focus_sentence)))\n",
    "    print \n",
    " "
   ]
  },
  {
   "cell_type": "markdown",
   "metadata": {
    "nbpresent": {
     "id": "292058a1-a46b-4b85-84c6-28f8b0829b02"
    }
   },
   "source": [
    "## References"
   ]
  },
  {
   "cell_type": "markdown",
   "metadata": {
    "nbpresent": {
     "id": "84c1ccb1-fdb3-4513-9ab2-2c737dce3757"
    }
   },
   "source": [
    "### Text Analytics with Python: A Practical Real-World Approach to Gaining Actionable Insights from Your Data, By Dipanjan Sarkar (Chapter 7: Semantic and Sentiment Analysis)"
   ]
  },
  {
   "cell_type": "markdown",
   "metadata": {
    "nbpresent": {
     "id": "6909232f-ea29-4bbe-9c6d-116602e732dc"
    }
   },
   "source": [
    "### Natural Language Processing with Python: Analyzing Text with the Natural Language Toolkit, By Steven Bird, Ewan Klein, and Edward Loper (exercises)"
   ]
  }
 ],
 "metadata": {
  "kernelspec": {
   "display_name": "Python [conda env:Python 3.5]",
   "language": "python",
   "name": "conda-env-Python 3.5-py"
  },
  "language_info": {
   "codemirror_mode": {
    "name": "ipython",
    "version": 3
   },
   "file_extension": ".py",
   "mimetype": "text/x-python",
   "name": "python",
   "nbconvert_exporter": "python",
   "pygments_lexer": "ipython3",
   "version": "3.5.4"
  }
 },
 "nbformat": 4,
 "nbformat_minor": 1
}
