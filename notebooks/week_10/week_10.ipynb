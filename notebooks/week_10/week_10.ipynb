{
 "cells": [
  {
   "cell_type": "markdown",
   "metadata": {
    "nbpresent": {
     "id": "71b3dafc-6be1-48f2-9c82-2518416ba6b7"
    }
   },
   "source": [
    "# Word Sense Disambiguation\n",
    "\n",
    "## Lesk (original method)"
   ]
  },
  {
   "cell_type": "code",
   "execution_count": 49,
   "metadata": {
    "collapsed": true,
    "nbpresent": {
     "id": "726c3049-1f06-4a76-8cda-42801d37bd4a"
    }
   },
   "outputs": [],
   "source": [
    "from nltk.wsd import lesk\n",
    "from nltk import word_tokenize"
   ]
  },
  {
   "cell_type": "code",
   "execution_count": 3,
   "metadata": {
    "collapsed": true,
    "nbpresent": {
     "id": "ea1877b5-b6af-4d63-abb7-bc9226db68c8"
    }
   },
   "outputs": [],
   "source": [
    "# sample text and word to disambiguate\n",
    "samples = [('The fruits on that plant have ripened', 'n'), \n",
    "           ('He finally reaped the fruit of his hard work as he won the race', 'n')]"
   ]
  },
  {
   "cell_type": "code",
   "execution_count": 4,
   "metadata": {
    "collapsed": true,
    "nbpresent": {
     "id": "b828c486-b43f-41bf-a395-fc460cfbf682"
    }
   },
   "outputs": [],
   "source": [
    "word = 'fruit'"
   ]
  },
  {
   "cell_type": "code",
   "execution_count": 47,
   "metadata": {
    "nbpresent": {
     "id": "174d71d9-7af7-45ea-9f46-013811118ea2"
    }
   },
   "outputs": [
    {
     "name": "stdout",
     "output_type": "stream",
     "text": [
      "Sentence: Their weapons were the bow and arrow and stones.\n",
      "Word synset: Synset('bow.n.04')\n",
      "Corresponding definition: a weapon for shooting arrows, composed of a curved piece of resilient wood with a taut cord to propel the arrow\n",
      "\n",
      "Sentence: Jetr said nothing but offered a small bow of his head.\n",
      "Word synset: Synset('bow.v.03')\n",
      "Corresponding definition: bend the head or the upper part of the body in a gesture of respect or greeting\n",
      "\n"
     ]
    }
   ],
   "source": [
    "# perform word sense disambiguation\n",
    "for sentence, pos_tag in samples:\n",
    "    word_syn = lesk(word_tokenize(sentence.lower()), word, pos_tag)\n",
    "    print('Sentence:', sentence)\n",
    "    print('Word synset:', word_syn)\n",
    "    print('Corresponding definition:', word_syn.definition())\n",
    "    print()"
   ]
  },
  {
   "cell_type": "code",
   "execution_count": 6,
   "metadata": {
    "collapsed": true,
    "nbpresent": {
     "id": "52d3c9df-94ce-43d7-9888-4be71eb4b07e"
    }
   },
   "outputs": [],
   "source": [
    "# sample text and word to disambiguate\n",
    "samples = [('Lead is a very soft, malleable metal', 'n'), \n",
    "           ('John is the actor who plays the lead in that movie', 'n'), \n",
    "           ('This road leads to nowhere', 'v')]"
   ]
  },
  {
   "cell_type": "code",
   "execution_count": 7,
   "metadata": {
    "collapsed": true,
    "nbpresent": {
     "id": "890439b6-9b8b-4a51-a593-e8f3e5f11833"
    }
   },
   "outputs": [],
   "source": [
    "word = 'lead'"
   ]
  },
  {
   "cell_type": "code",
   "execution_count": 8,
   "metadata": {
    "nbpresent": {
     "id": "3936e8ff-db4b-47b2-bb85-04b22dcea2c2"
    }
   },
   "outputs": [
    {
     "name": "stdout",
     "output_type": "stream",
     "text": [
      "Sentence: Lead is a very soft, malleable metal\n",
      "Word synset: Synset('lead.n.02')\n",
      "\n",
      "Sentence: John is the actor who plays the lead in that movie\n",
      "Word synset: Synset('star.n.04')\n",
      "\n",
      "Sentence: This road leads to nowhere\n",
      "Word synset: Synset('run.v.23')\n",
      "\n"
     ]
    }
   ],
   "source": [
    "# perform word sense disambiguation\n",
    "for sentence, pos_tag in samples:\n",
    "    word_syn = lesk(word_tokenize(sentence.lower()), word, pos_tag)\n",
    "    print('Sentence:', sentence)\n",
    "    print('Word synset:', word_syn)\n",
    "    print()"
   ]
  },
  {
   "cell_type": "code",
   "execution_count": 16,
   "metadata": {
    "collapsed": true,
    "nbpresent": {
     "id": "aee937aa-a577-4107-8bb5-2a5ee4491bdb"
    }
   },
   "outputs": [],
   "source": [
    "# sample text and word to disambiguate\n",
    "samples = [('Their weapons were the bow and arrow and stones.', 'n'), \n",
    "           ('Jetr said nothing but offered a small bow of his head.', 'v')]"
   ]
  },
  {
   "cell_type": "code",
   "execution_count": 17,
   "metadata": {
    "collapsed": true,
    "nbpresent": {
     "id": "1767cd28-beef-496d-8b6f-380f7bd9a9af"
    }
   },
   "outputs": [],
   "source": [
    "word = 'bow'"
   ]
  },
  {
   "cell_type": "code",
   "execution_count": 19,
   "metadata": {
    "nbpresent": {
     "id": "5c4b726b-af70-4408-a8e1-efe48c6e75d8"
    }
   },
   "outputs": [
    {
     "name": "stdout",
     "output_type": "stream",
     "text": [
      "Sentence: Their weapons were the bow and arrow and stones.\n",
      "Word synset: Synset('bow.n.04')\n",
      "Word synset definition: a weapon for shooting arrows, composed of a curved piece of resilient wood with a taut cord to propel the arrow\n",
      "\n",
      "Sentence: Jetr said nothing but offered a small bow of his head.\n",
      "Word synset: Synset('bow.v.03')\n",
      "Word synset definition: bend the head or the upper part of the body in a gesture of respect or greeting\n",
      "\n"
     ]
    }
   ],
   "source": [
    "# perform word sense disambiguation\n",
    "for sentence, pos_tag in samples:\n",
    "    word_syn = lesk(word_tokenize(sentence.lower()), word, pos_tag)\n",
    "    print('Sentence:', sentence)\n",
    "    print('Word synset:', word_syn)\n",
    "    print('Word synset definition:', word_syn.definition())    \n",
    "    print()"
   ]
  },
  {
   "cell_type": "markdown",
   "metadata": {
    "nbpresent": {
     "id": "1ae46d58-8a2f-4bdb-8844-76e7507bb937"
    }
   },
   "source": [
    "#### You can see how we use the Lesk algorithm to get the correct word sense for the word we are disambiguating based on its usage and context in each document. \n",
    "#### This tells you how fruit can mean both an entity that is consumed as well as some consequence one faces on applying efforts. \n",
    "#### We also see how lead can mean the soft metal, causing something/someone to go somewhere, or even an actor who plays the main role in a play or movie."
   ]
  },
  {
   "cell_type": "markdown",
   "metadata": {
    "nbpresent": {
     "id": "675394a4-9dbf-4375-b12c-b4a2bc154df6"
    }
   },
   "source": [
    "### Lesk (simple lesk)\n",
    "#### pip install pywsd"
   ]
  },
  {
   "cell_type": "code",
   "execution_count": 56,
   "metadata": {
    "nbpresent": {
     "id": "4f872b0e-c93c-47a4-8b27-e40dd61a2b7a"
    }
   },
   "outputs": [
    {
     "name": "stderr",
     "output_type": "stream",
     "text": [
      "Warming up PyWSD (takes ~10 secs)... took 4.6138927936553955 secs.\n"
     ]
    }
   ],
   "source": [
    "from pywsd.lesk import simple_lesk"
   ]
  },
  {
   "cell_type": "code",
   "execution_count": 62,
   "metadata": {
    "nbpresent": {
     "id": "f5d862da-f514-49f2-818b-04f74fa355b5"
    }
   },
   "outputs": [
    {
     "name": "stdout",
     "output_type": "stream",
     "text": [
      "Synset('depository_financial_institution.n.01')\n",
      "a financial institution that accepts deposits and channels the money into lending activities\n"
     ]
    }
   ],
   "source": [
    "sent = 'I went to the bank to deposit my money'\n",
    "ambiguous = 'bank'\n",
    "answer = simple_lesk(sent, ambiguous, pos='n')\n",
    "print(answer)\n",
    "print(answer.definition())"
   ]
  },
  {
   "cell_type": "markdown",
   "metadata": {},
   "source": [
    "### For all-words WSD"
   ]
  },
  {
   "cell_type": "code",
   "execution_count": 63,
   "metadata": {
    "collapsed": true
   },
   "outputs": [],
   "source": [
    "from pywsd import disambiguate\n",
    "from pywsd.similarity import max_similarity as maxsim"
   ]
  },
  {
   "cell_type": "code",
   "execution_count": 65,
   "metadata": {
    "collapsed": true
   },
   "outputs": [],
   "source": [
    "sentence = 'I went to the bank to deposit my money'"
   ]
  },
  {
   "cell_type": "code",
   "execution_count": 66,
   "metadata": {},
   "outputs": [
    {
     "data": {
      "text/plain": [
       "[('I', None),\n",
       " ('went', Synset('run_low.v.01')),\n",
       " ('to', None),\n",
       " ('the', None),\n",
       " ('bank', Synset('depository_financial_institution.n.01')),\n",
       " ('to', None),\n",
       " ('deposit', Synset('deposit.v.02')),\n",
       " ('my', None),\n",
       " ('money', Synset('money.n.03'))]"
      ]
     },
     "execution_count": 66,
     "metadata": {},
     "output_type": "execute_result"
    }
   ],
   "source": [
    "disambiguate(sentence)"
   ]
  },
  {
   "cell_type": "code",
   "execution_count": 68,
   "metadata": {},
   "outputs": [
    {
     "data": {
      "text/plain": [
       "[('I', 'i', None),\n",
       " ('went', 'go', Synset('travel.v.01')),\n",
       " ('to', 'to', None),\n",
       " ('the', 'the', None),\n",
       " ('bank', 'bank', None),\n",
       " ('to', 'to', None),\n",
       " ('deposit', 'deposit', Synset('deposit.v.02')),\n",
       " ('my', 'my', None),\n",
       " ('money', 'money', None)]"
      ]
     },
     "execution_count": 68,
     "metadata": {},
     "output_type": "execute_result"
    }
   ],
   "source": [
    "disambiguate(sentence, algorithm=maxsim, similarity_option='wup', keepLemmas=True)"
   ]
  },
  {
   "cell_type": "markdown",
   "metadata": {},
   "source": [
    "## Exercise 1\n",
    "### Use your imagination and write a few sentences \n",
    "### Look at the difference when you use all-words, lesk and simple_lesk\n",
    "### a) comment on the obtained synsets and b) time it took"
   ]
  },
  {
   "cell_type": "code",
   "execution_count": 70,
   "metadata": {
    "collapsed": true
   },
   "outputs": [],
   "source": [
    "# your implementation"
   ]
  },
  {
   "cell_type": "markdown",
   "metadata": {},
   "source": [
    "# Named Entities"
   ]
  },
  {
   "cell_type": "code",
   "execution_count": 71,
   "metadata": {
    "collapsed": true
   },
   "outputs": [],
   "source": [
    "# sample document\n",
    "text = \"\"\"\n",
    "Bayern Munich, or FC Bayern, is a German sports club based in Munich,\n",
    "Bavaria, Germany. It is best known for its professional football team,\n",
    "which plays in the Bundesliga, the top tier of the German football\n",
    "league system, and is the most successful club in German football\n",
    "history, having won a record 26 national titles and 18 national cups.\n",
    "FC Bayern was founded in 1900 by eleven football players led by Franz John.\n",
    "Although Bayern won its first national championship in 1932, the club\n",
    "was not selected for the Bundesliga at its inception in 1963. The club\n",
    "had its period of greatest success in the middle of the 1970s when,\n",
    "under the captaincy of Franz Beckenbauer, it won the European Cup three\n",
    "times in a row (1974-76). Overall, Bayern has reached ten UEFA Champions\n",
    "League finals, most recently winning their fifth title in 2013 as part\n",
    "of a continental treble.\n",
    "\"\"\""
   ]
  },
  {
   "cell_type": "code",
   "execution_count": 78,
   "metadata": {
    "collapsed": true
   },
   "outputs": [],
   "source": [
    "import nltk\n",
    "import pandas as pd\n",
    "import re"
   ]
  },
  {
   "cell_type": "code",
   "execution_count": 74,
   "metadata": {
    "collapsed": true
   },
   "outputs": [],
   "source": [
    "def normalize_corpus(corpus, lemmatize=True, only_text_chars=False, tokenize=False):\n",
    "    normalized_corpus = []\n",
    "    for text in corpus:\n",
    "        text = html_parser.unescape(text)\n",
    "        text = expand_contractions(text, CONTRACTION_MAP)\n",
    "        if lemmatize:\n",
    "            text = lemmatize_text(text)\n",
    "        else:\n",
    "            text = text.lower()\n",
    "        text = remove_special_characters(text)\n",
    "        text = remove_stopwords(text)\n",
    "        if only_text_chars:\n",
    "            text = keep_text_characters(text)\n",
    "        if tokenize:\n",
    "            text = tokenize_text(text)\n",
    "            normalized_corpus.append(text)\n",
    "        else:\n",
    "            normalized_corpus.append(text)\n",
    "        return normalized_corpus"
   ]
  },
  {
   "cell_type": "code",
   "execution_count": 76,
   "metadata": {
    "collapsed": true
   },
   "outputs": [],
   "source": [
    "def parse_document(document):\n",
    "    document = re.sub('\\n', ' ', document)\n",
    "    if isinstance(document, str):\n",
    "        document = document\n",
    "    elif isinstance(document, unicode):\n",
    "        return unicodedata.normalize('NFKD', document).encode('ascii', 'ignore')\n",
    "    else:\n",
    "        raise ValueError('Document is not string or unicode!')\n",
    "    document = document.strip()\n",
    "    sentences = nltk.sent_tokenize(document)\n",
    "    sentences = [sentence.strip() for sentence in sentences]\n",
    "    return sentences"
   ]
  },
  {
   "cell_type": "code",
   "execution_count": 80,
   "metadata": {
    "collapsed": true
   },
   "outputs": [],
   "source": [
    "# tokenize sentences\n",
    "sentences = parse_document(text)\n",
    "tokenized_sentences = [nltk.word_tokenize(sentence) for sentence in sentences]"
   ]
  },
  {
   "cell_type": "code",
   "execution_count": 87,
   "metadata": {
    "collapsed": true
   },
   "outputs": [],
   "source": [
    "#print(tokenized_sentences)"
   ]
  },
  {
   "cell_type": "code",
   "execution_count": 83,
   "metadata": {
    "collapsed": true
   },
   "outputs": [],
   "source": [
    "# tag sentences and use nltk's Named Entity Chunker\n",
    "tagged_sentences = [nltk.pos_tag(sentence) for sentence in tokenized_sentences]\n",
    "ne_chunked_sents = [nltk.ne_chunk(tagged) for tagged in tagged_sentences]"
   ]
  },
  {
   "cell_type": "code",
   "execution_count": 86,
   "metadata": {
    "collapsed": true
   },
   "outputs": [],
   "source": [
    "#print(tagged_sentences)"
   ]
  },
  {
   "cell_type": "code",
   "execution_count": 85,
   "metadata": {},
   "outputs": [
    {
     "name": "stdout",
     "output_type": "stream",
     "text": [
      "[Tree('S', [Tree('GPE', [('Bayern', 'NNP')]), Tree('ORGANIZATION', [('Munich', 'NNP')]), (',', ','), ('or', 'CC'), Tree('ORGANIZATION', [('FC', 'NNP'), ('Bayern', 'NNP')]), (',', ','), ('is', 'VBZ'), ('a', 'DT'), Tree('GPE', [('German', 'JJ')]), ('sports', 'NNS'), ('club', 'NN'), ('based', 'VBN'), ('in', 'IN'), Tree('GPE', [('Munich', 'NNP')]), (',', ','), Tree('GPE', [('Bavaria', 'NNP')]), (',', ','), Tree('GPE', [('Germany', 'NNP')]), ('.', '.')]), Tree('S', [('It', 'PRP'), ('is', 'VBZ'), ('best', 'RBS'), ('known', 'VBN'), ('for', 'IN'), ('its', 'PRP$'), ('professional', 'JJ'), ('football', 'NN'), ('team', 'NN'), (',', ','), ('which', 'WDT'), ('plays', 'VBZ'), ('in', 'IN'), ('the', 'DT'), Tree('ORGANIZATION', [('Bundesliga', 'NNP')]), (',', ','), ('the', 'DT'), ('top', 'JJ'), ('tier', 'NN'), ('of', 'IN'), ('the', 'DT'), Tree('GPE', [('German', 'JJ')]), ('football', 'NN'), ('league', 'NN'), ('system', 'NN'), (',', ','), ('and', 'CC'), ('is', 'VBZ'), ('the', 'DT'), ('most', 'RBS'), ('successful', 'JJ'), ('club', 'NN'), ('in', 'IN'), Tree('GPE', [('German', 'JJ')]), ('football', 'NN'), ('history', 'NN'), (',', ','), ('having', 'VBG'), ('won', 'VBD'), ('a', 'DT'), ('record', 'NN'), ('26', 'CD'), ('national', 'JJ'), ('titles', 'NNS'), ('and', 'CC'), ('18', 'CD'), ('national', 'JJ'), ('cups', 'NNS'), ('.', '.')]), Tree('S', [('FC', 'NNP'), Tree('PERSON', [('Bayern', 'NNP')]), ('was', 'VBD'), ('founded', 'VBN'), ('in', 'IN'), ('1900', 'CD'), ('by', 'IN'), ('eleven', 'VBG'), ('football', 'NN'), ('players', 'NNS'), ('led', 'VBN'), ('by', 'IN'), Tree('PERSON', [('Franz', 'NNP'), ('John', 'NNP')]), ('.', '.')]), Tree('S', [('Although', 'IN'), Tree('PERSON', [('Bayern', 'NNP')]), ('won', 'VBD'), ('its', 'PRP$'), ('first', 'JJ'), ('national', 'JJ'), ('championship', 'NN'), ('in', 'IN'), ('1932', 'CD'), (',', ','), ('the', 'DT'), ('club', 'NN'), ('was', 'VBD'), ('not', 'RB'), ('selected', 'VBN'), ('for', 'IN'), ('the', 'DT'), Tree('ORGANIZATION', [('Bundesliga', 'NNP')]), ('at', 'IN'), ('its', 'PRP$'), ('inception', 'NN'), ('in', 'IN'), ('1963', 'CD'), ('.', '.')]), Tree('S', [('The', 'DT'), ('club', 'NN'), ('had', 'VBD'), ('its', 'PRP$'), ('period', 'NN'), ('of', 'IN'), ('greatest', 'JJS'), ('success', 'NN'), ('in', 'IN'), ('the', 'DT'), ('middle', 'NN'), ('of', 'IN'), ('the', 'DT'), ('1970s', 'CD'), ('when', 'WRB'), (',', ','), ('under', 'IN'), ('the', 'DT'), ('captaincy', 'NN'), ('of', 'IN'), Tree('PERSON', [('Franz', 'NNP'), ('Beckenbauer', 'NNP')]), (',', ','), ('it', 'PRP'), ('won', 'VBD'), ('the', 'DT'), Tree('ORGANIZATION', [('European', 'JJ')]), ('Cup', 'NNP'), ('three', 'CD'), ('times', 'NNS'), ('in', 'IN'), ('a', 'DT'), ('row', 'NN'), ('(', '('), ('1974-76', 'JJ'), (')', ')'), ('.', '.')]), Tree('S', [Tree('GPE', [('Overall', 'JJ')]), (',', ','), Tree('GPE', [('Bayern', 'NNP')]), ('has', 'VBZ'), ('reached', 'VBN'), ('ten', 'RB'), Tree('ORGANIZATION', [('UEFA', 'JJ')]), ('Champions', 'NNP'), ('League', 'NNP'), ('finals', 'NNS'), (',', ','), ('most', 'JJS'), ('recently', 'RB'), ('winning', 'VBG'), ('their', 'PRP$'), ('fifth', 'JJ'), ('title', 'NN'), ('in', 'IN'), ('2013', 'CD'), ('as', 'IN'), ('part', 'NN'), ('of', 'IN'), ('a', 'DT'), ('continental', 'JJ'), ('treble', 'NN'), ('.', '.')])]\n"
     ]
    }
   ],
   "source": [
    "print(ne_chunked_sents)"
   ]
  },
  {
   "cell_type": "code",
   "execution_count": 89,
   "metadata": {
    "collapsed": true
   },
   "outputs": [],
   "source": [
    "# extract all named entities\n",
    "named_entities = []\n",
    "for ne_tagged_sentence in ne_chunked_sents:\n",
    "    for tagged_tree in ne_tagged_sentence:\n",
    "        # extract only chunks having NE labels\n",
    "        if hasattr(tagged_tree, 'label'):\n",
    "            entity_name = ' '.join(c[0] for c in tagged_tree.leaves()) # get NE name\n",
    "            entity_type = tagged_tree.label() # get NE category\n",
    "            named_entities.append((entity_name, entity_type))"
   ]
  },
  {
   "cell_type": "code",
   "execution_count": 90,
   "metadata": {
    "collapsed": true
   },
   "outputs": [],
   "source": [
    "# get unique named entities\n",
    "named_entities = list(set(named_entities))"
   ]
  },
  {
   "cell_type": "code",
   "execution_count": 91,
   "metadata": {},
   "outputs": [
    {
     "data": {
      "text/plain": [
       "[('Munich', 'GPE'),\n",
       " ('Bayern', 'PERSON'),\n",
       " ('German', 'GPE'),\n",
       " ('Overall', 'GPE'),\n",
       " ('Germany', 'GPE'),\n",
       " ('Bundesliga', 'ORGANIZATION'),\n",
       " ('European', 'ORGANIZATION'),\n",
       " ('Munich', 'ORGANIZATION'),\n",
       " ('Franz John', 'PERSON'),\n",
       " ('Bayern', 'GPE'),\n",
       " ('Franz Beckenbauer', 'PERSON'),\n",
       " ('Bavaria', 'GPE'),\n",
       " ('FC Bayern', 'ORGANIZATION'),\n",
       " ('UEFA', 'ORGANIZATION')]"
      ]
     },
     "execution_count": 91,
     "metadata": {},
     "output_type": "execute_result"
    }
   ],
   "source": [
    "named_entities"
   ]
  },
  {
   "cell_type": "code",
   "execution_count": 92,
   "metadata": {
    "collapsed": true
   },
   "outputs": [],
   "source": [
    "# store named entities in a data frame\n",
    "entity_frame = pd.DataFrame(named_entities, columns=['Entity Name', 'Entity Type'])"
   ]
  },
  {
   "cell_type": "code",
   "execution_count": 95,
   "metadata": {},
   "outputs": [
    {
     "name": "stdout",
     "output_type": "stream",
     "text": [
      "          Entity Name   Entity Type\n",
      "0              Munich           GPE\n",
      "1              Bayern        PERSON\n",
      "2              German           GPE\n",
      "3             Overall           GPE\n",
      "4             Germany           GPE\n",
      "5          Bundesliga  ORGANIZATION\n",
      "6            European  ORGANIZATION\n",
      "7              Munich  ORGANIZATION\n",
      "8          Franz John        PERSON\n",
      "9              Bayern           GPE\n",
      "10  Franz Beckenbauer        PERSON\n",
      "11            Bavaria           GPE\n",
      "12          FC Bayern  ORGANIZATION\n",
      "13               UEFA  ORGANIZATION\n"
     ]
    }
   ],
   "source": [
    "# display results\n",
    "print(entity_frame)"
   ]
  },
  {
   "cell_type": "markdown",
   "metadata": {},
   "source": [
    "#### The Named Entity Chunker identifies named entities from the preceding text document, and we extract these named entities from the tagged annotated sentences and display them in the data frame as shown. \n",
    "\n",
    "#### You can clearly see how it has correctly identified PERSON , ORGANIZATION , and GPE related named entities, although a few of them are incorrectly identified.\n",
    "\n",
    "### A possibilty is to use other Taggers, for example: Stanford NER tagger on the same text and compare the results \n",
    "#### (check pp 334 and 335 from the course book and observe the differences)"
   ]
  },
  {
   "cell_type": "markdown",
   "metadata": {},
   "source": [
    "#### Entity Name Entity Type\n",
    "0 Franz John PERSON\n",
    "\n",
    "1 Franz Beckenbauer PERSON\n",
    "\n",
    "2 Germany LOCATION\n",
    "\n",
    "3 Bayern ORGANIZATION\n",
    "\n",
    "4 Bavaria LOCATION\n",
    "\n",
    "5 Munich LOCATION\n",
    "\n",
    "6 FC Bayern ORGANIZATION\n",
    "\n",
    "7 UEFA ORGANIZATION\n",
    "\n",
    "8 Bayern Munich ORGANIZATION"
   ]
  },
  {
   "cell_type": "markdown",
   "metadata": {},
   "source": [
    "### Does this mean the second NER tagger is better?\n",
    "### Not really. It depends on the type of corpus you are analyzing, and you can even build\n",
    "### your own NER tagger using supervised learning by training on pre-tagged corpora"
   ]
  },
  {
   "cell_type": "markdown",
   "metadata": {},
   "source": [
    "## Going back to WordNet but now to have a look at their graphs"
   ]
  },
  {
   "cell_type": "code",
   "execution_count": 79,
   "metadata": {},
   "outputs": [],
   "source": [
    "from nltk.corpus import wordnet as wn\n",
    "import matplotlib.pyplot as plt\n",
    "import networkx as nx\n",
    "%matplotlib inline \n",
    "\n",
    "def closure_graph(synset, fn):\n",
    "    seen = set()\n",
    "    graph = nx.DiGraph()\n",
    "\n",
    "    def recurse(s):\n",
    "        if not s in seen:\n",
    "            seen.add(s)\n",
    "            graph.add_node(s.name())\n",
    "            for s1 in fn(s):\n",
    "                print(s1.name())\n",
    "                graph.add_node(s1.name())\n",
    "                graph.add_edge(s.name(), s1.name())\n",
    "                recurse(s1)\n",
    "\n",
    "    recurse(synset)\n",
    "    return graph"
   ]
  },
  {
   "cell_type": "code",
   "execution_count": 80,
   "metadata": {
    "collapsed": true
   },
   "outputs": [],
   "source": [
    "dog = wn.synset('dog.n.01')"
   ]
  },
  {
   "cell_type": "code",
   "execution_count": 81,
   "metadata": {},
   "outputs": [
    {
     "name": "stdout",
     "output_type": "stream",
     "text": [
      "canine.n.02\n",
      "carnivore.n.01\n",
      "placental.n.01\n",
      "mammal.n.01\n",
      "vertebrate.n.01\n",
      "chordate.n.01\n",
      "animal.n.01\n",
      "organism.n.01\n",
      "living_thing.n.01\n",
      "whole.n.02\n",
      "object.n.01\n",
      "physical_entity.n.01\n",
      "entity.n.01\n",
      "domestic_animal.n.01\n",
      "animal.n.01\n"
     ]
    }
   ],
   "source": [
    "graph = closure_graph(dog, lambda s: s.hypernyms())"
   ]
  },
  {
   "cell_type": "code",
   "execution_count": 84,
   "metadata": {},
   "outputs": [
    {
     "data": {
      "image/png": "[encoded data removed]",
      "text/plain": [
       "<Figure size 1008x1008 with 1 Axes>"
      ]
     },
     "metadata": {},
     "output_type": "display_data"
    }
   ],
   "source": [
    "# larger figure size\n",
    "plt.figure(3,figsize=(14,14)) \n",
    "#nx.draw_circular(graph, with_labels=True)\n",
    "nx.draw_networkx(graph, with_labels=True)\n",
    "plt.show()"
   ]
  },
  {
   "cell_type": "markdown",
   "metadata": {},
   "source": [
    "## References\n",
    "\n",
    "### https://github.com/alvations/pywsd"
   ]
  },
  {
   "cell_type": "code",
   "execution_count": null,
   "metadata": {
    "collapsed": true
   },
   "outputs": [],
   "source": []
  }
 ],
 "metadata": {
  "kernelspec": {
   "display_name": "Python [conda env:Python 3.5]",
   "language": "python",
   "name": "conda-env-Python 3.5-py"
  },
  "language_info": {
   "codemirror_mode": {
    "name": "ipython",
    "version": 3
   },
   "file_extension": ".py",
   "mimetype": "text/x-python",
   "name": "python",
   "nbconvert_exporter": "python",
   "pygments_lexer": "ipython3",
   "version": "3.5.4"
  }
 },
 "nbformat": 4,
 "nbformat_minor": 1
}
